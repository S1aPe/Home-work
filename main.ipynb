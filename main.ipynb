{
 "cells": [
  {
   "cell_type": "markdown",
   "id": "02c2e90d",
   "metadata": {},
   "source": [
    "18.04"
   ]
  },
  {
   "cell_type": "code",
   "execution_count": null,
   "id": "2478ef43",
   "metadata": {
    "vscode": {
     "languageId": "plaintext"
    }
   },
   "outputs": [],
   "source": [
    "def insertion_sort(collection, key=None, reverse=False):\n",
    "    \"\"\"\n",
    "    Универсальная сортировка вставками для списков кортежей и словарей\n",
    "    :param collection: список элементов для сортировки\n",
    "    :param key: для кортежей - индекс, для словарей - ключ или None для сортировки по значению\n",
    "    :param reverse: сортировать по убыванию, если True\n",
    "    :return: отсортированный список\n",
    "    \"\"\"\n",
    "    for i in range(1, len(collection)):\n",
    "        current = collection[i]\n",
    "        j = i - 1\n",
    "        \n",
    "        # Функция для извлечения значения для сравнения\n",
    "        def get_value(item):\n",
    "            if isinstance(item, dict):\n",
    "                return item[key] if key is not None else next(iter(item.values()))\n",
    "            elif isinstance(item, tuple):\n",
    "                return item[key] if isinstance(key, int) else item[0]\n",
    "            else:\n",
    "                return item\n",
    "        \n",
    "        # Сравниваем элементы в зависимости от типа\n",
    "        while j >= 0 and (\n",
    "            (get_value(collection[j]) > get_value(current)) if not reverse \n",
    "            else (get_value(collection[j]) < get_value(current))\n",
    "        ):\n",
    "            collection[j + 1] = collection[j]\n",
    "            j -= 1\n",
    "        collection[j + 1] = current\n",
    "    \n",
    "    return collection\n",
    "\n",
    "# Примеры использования:\n",
    "\n",
    "# 1. Сортировка списка кортежей (по второму элементу)\n",
    "data_tuples = [\n",
    "    (\"Alice\", 25, \"NY\"),\n",
    "    (\"Bob\", 30, \"LA\"),\n",
    "    (\"Charlie\", 20, \"Chicago\")\n",
    "]\n",
    "print(\"Сортировка кортежей по возрасту (индекс 1):\")\n",
    "sorted_tuples = insertion_sort(data_tuples.copy(), key=1)\n",
    "print(sorted_tuples)\n",
    "\n",
    "# 2. Сортировка списка словарей (по ключу 'age')\n",
    "data_dicts = [\n",
    "    {\"name\": \"Alice\", \"age\": 25, \"city\": \"NY\"},\n",
    "    {\"name\": \"Bob\", \"age\": 30, \"city\": \"LA\"},\n",
    "    {\"name\": \"Charlie\", \"age\": 20, \"city\": \"Chicago\"}\n",
    "]\n",
    "print(\"\\nСортировка словарей по ключу 'age':\")\n",
    "sorted_dicts = insertion_sort(data_dicts.copy(), key='age')\n",
    "print(sorted_dicts)\n",
    "\n",
    "# 3. Сортировка по убыванию\n",
    "print(\"\\nСортировка словарей по ключу 'age' (по убыванию):\")\n",
    "sorted_dicts_desc = insertion_sort(data_dicts.copy(), key='age', reverse=True)\n",
    "print(sorted_dicts_desc)\n",
    "\n",
    "# 4. Сортировка словарей по первому значению (без указания ключа)\n",
    "print(\"\\nСортировка словарей по первому значению:\")\n",
    "sorted_dicts_first_val = insertion_sort(data_dicts.copy(), key=None)\n",
    "print(sorted_dicts_first_val)"
   ]
  }
 ],
 "metadata": {
  "language_info": {
   "name": "python"
  }
 },
 "nbformat": 4,
 "nbformat_minor": 5
}
